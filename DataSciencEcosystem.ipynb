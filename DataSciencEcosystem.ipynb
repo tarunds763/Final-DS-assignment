{
 "cells": [
  {
   "cell_type": "markdown",
   "id": "9aef243b",
   "metadata": {},
   "source": [
    "# Data Science Tools and Ecosystem"
   ]
  },
  {
   "cell_type": "markdown",
   "id": "d84e6336",
   "metadata": {},
   "source": [
    "Objectives\n",
    "- Popular Data Science Languages\n",
    "- Popular Data Science libraries\n",
    "- Arithmetic Expression in Python\n"
   ]
  },
  {
   "cell_type": "markdown",
   "id": "c9e2b34f",
   "metadata": {},
   "source": [
    "In this notebook, Data Science Tools and Ecosystem are summarised."
   ]
  },
  {
   "cell_type": "markdown",
   "id": "21d498ba",
   "metadata": {},
   "source": [
    "Some of the popular languages that Data Scientist use are:\n",
    "   1. Python\n",
    "   2. R\n",
    "   3. Scala"
   ]
  },
  {
   "cell_type": "markdown",
   "id": "7b0b54ee",
   "metadata": {},
   "source": [
    "Some of the commonly used libraries used by Data Scientist include:\n",
    " 1. Pandas\n",
    " 2. ggplot2\n",
    " 3. Pytorch"
   ]
  },
  {
   "cell_type": "markdown",
   "id": "6f34c76e",
   "metadata": {},
   "source": [
    "| Data Science Tools|\n",
    "| ----------------- |\n",
    "| Jupiter Notebook |\n",
    "| R Studio |\n",
    "| Apache CouchDB |\n"
   ]
  },
  {
   "cell_type": "markdown",
   "id": "a9773286",
   "metadata": {},
   "source": [
    "### Below are few examples of evaluating arithmetic expression in Python"
   ]
  },
  {
   "cell_type": "markdown",
   "id": "2eb4dc19",
   "metadata": {},
   "source": [
    "This is simple arithmetic expression to multiple and add the integers"
   ]
  },
  {
   "cell_type": "code",
   "execution_count": 6,
   "id": "8a3d4e7d",
   "metadata": {},
   "outputs": [
    {
     "data": {
      "text/plain": [
       "17"
      ]
     },
     "execution_count": 6,
     "metadata": {},
     "output_type": "execute_result"
    }
   ],
   "source": [
    "(3*4)+5"
   ]
  },
  {
   "cell_type": "markdown",
   "id": "40495db7",
   "metadata": {},
   "source": [
    "This will convert 200 minutes into hours by dividing by 60"
   ]
  },
  {
   "cell_type": "code",
   "execution_count": 9,
   "id": "090e09d9",
   "metadata": {},
   "outputs": [
    {
     "data": {
      "text/plain": [
       "3.3333333333333335"
      ]
     },
     "execution_count": 9,
     "metadata": {},
     "output_type": "execute_result"
    }
   ],
   "source": [
    "200/60"
   ]
  },
  {
   "cell_type": "markdown",
   "id": "df26872b",
   "metadata": {},
   "source": [
    "## Author :\n",
    "Tarun"
   ]
  }
 ],
 "metadata": {
  "kernelspec": {
   "display_name": "Python 3 (ipykernel)",
   "language": "python",
   "name": "python3"
  },
  "language_info": {
   "codemirror_mode": {
    "name": "ipython",
    "version": 3
   },
   "file_extension": ".py",
   "mimetype": "text/x-python",
   "name": "python",
   "nbconvert_exporter": "python",
   "pygments_lexer": "ipython3",
   "version": "3.11.5"
  }
 },
 "nbformat": 4,
 "nbformat_minor": 5
}
